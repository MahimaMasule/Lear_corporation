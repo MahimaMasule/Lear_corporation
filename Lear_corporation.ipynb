{
 "cells": [
  {
   "cell_type": "code",
   "execution_count": 60,
   "id": "fea6e58f-6417-458a-9f21-80f62eed7f35",
   "metadata": {},
   "outputs": [
    {
     "name": "stdout",
     "output_type": "stream",
     "text": [
      "the unique elements are [5, 8]\n"
     ]
    }
   ],
   "source": [
    "# 1 Unique element in the list\n",
    "\n",
    "uni=[]\n",
    "dup=[]\n",
    "def unique(arr):\n",
    "    \n",
    "    for i in arr:\n",
    "        if i in uni:\n",
    "            dup.append(i)\n",
    "        else:\n",
    "            uni.append(i) \n",
    "        for j in uni:\n",
    "            if j in dup:\n",
    "                uni.remove(j)\n",
    "            \n",
    "    print(\"the unique elements are\",uni)\n",
    "    \n",
    "unique([4,5,9,4,9,8])\n"
   ]
  },
  {
   "cell_type": "code",
   "execution_count": 64,
   "id": "a9c6d8a8-b84d-487b-be3d-5f34c29766a5",
   "metadata": {},
   "outputs": [
    {
     "name": "stdout",
     "output_type": "stream",
     "text": [
      "False\n",
      "False\n",
      "False\n",
      "False\n",
      "False\n",
      "False\n",
      "False\n",
      "False\n"
     ]
    }
   ],
   "source": [
    "#2 Balenced Bracket Validator\n",
    "\n",
    "def bracket(arr):\n",
    "    for i in range((len(arr))):\n",
    "        if (arr[i]==\"[\" and arr[-i-1]==\"]\") and (arr[i]==\"(\" and arr[-i-1]==\")\") and (arr[i]==\"{\" and arr[-i-1]==\"}\"):\n",
    "            print(\"True\")\n",
    "        else:\n",
    "            print(\"False\")\n",
    "           \n",
    "bracket(\"[({[]})]\")\n"
   ]
  },
  {
   "cell_type": "code",
   "execution_count": 68,
   "id": "2de9883f-00d7-474e-a2b8-c8e1ee125b08",
   "metadata": {},
   "outputs": [
    {
     "name": "stdout",
     "output_type": "stream",
     "text": [
      "the sequence [1, 2, 3, 4]\n"
     ]
    }
   ],
   "source": [
    "#3  longest Consecutive Sequence\n",
    "def longest(arr):\n",
    "  sort = sorted(arr)\n",
    "  longest_sequence = []\n",
    "  current_sequence = []\n",
    "\n",
    "  if not sort:  \n",
    "    return longest_sequence\n",
    "\n",
    "  current_sequence.append(sort[0])\n",
    "\n",
    "  for i in range(1, len(sort)):\n",
    "    if sort[i] == sort[i-1] + 1:\n",
    "      current_sequence.append(sort[i])\n",
    "    else:\n",
    "      if len(current_sequence) > len(longest_sequence):\n",
    "        longest_sequence = current_sequence\n",
    "      current_sequence = [sort[i]]\n",
    "\n",
    "\n",
    "  if len(current_sequence) > len(longest_sequence):\n",
    "    longest_sequence = current_sequence\n",
    "\n",
    "  print(f\"the sequence {longest_sequence}\")\n",
    "\n",
    "longest([100, 4, 200, 1, 3, 2])"
   ]
  },
  {
   "cell_type": "code",
   "execution_count": null,
   "id": "6fd46466-97fa-49bf-90fa-c956fd66c0c4",
   "metadata": {},
   "outputs": [],
   "source": [
    "\n",
    "\n",
    "\n",
    "\n"
   ]
  }
 ],
 "metadata": {
  "kernelspec": {
   "display_name": "Python 3 (ipykernel)",
   "language": "python",
   "name": "python3"
  },
  "language_info": {
   "codemirror_mode": {
    "name": "ipython",
    "version": 3
   },
   "file_extension": ".py",
   "mimetype": "text/x-python",
   "name": "python",
   "nbconvert_exporter": "python",
   "pygments_lexer": "ipython3",
   "version": "3.12.4"
  }
 },
 "nbformat": 4,
 "nbformat_minor": 5
}
